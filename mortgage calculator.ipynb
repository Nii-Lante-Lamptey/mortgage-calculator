{
 "cells": [
  {
   "cell_type": "code",
   "execution_count": 1,
   "metadata": {},
   "outputs": [
    {
     "name": "stdout",
     "output_type": "stream",
     "text": [
      "Please enter loan amount requested: $100000\n",
      "Please enter interest rate percentage: 7.5\n",
      "Please enter no of years to pay off: 5\n",
      "For a 5-year mortgage loan of $100000.00\n",
      "at an \u001b[1m annual\u001b[0m interest rate of 7.5%\n",
      "you pay\n",
      "\u001b[1m$2003.79 monthly \u001b[0m\n",
      "--------------------------------\n",
      "\u001b[1mTotal amount\u001b[0m paid will be $120227.69\n",
      "--------------------------------\n"
     ]
    }
   ],
   "source": [
    "#welcome message\n",
    "def calculate_loan_repayment():\n",
    "    print('---\\033[1m WELCOME \\033[0m---')\n",
    "\n",
    "#prompt user to enter loan amount requested\n",
    "#P : is total amount requested\n",
    "P=float(input('Please enter loan amount requested: $'))\n",
    "\n",
    "#prompt user to enter annual interest rate\n",
    "interest_rate=float(input('Please enter interest rate percentage: '))\n",
    "\n",
    "#prompt user to enter number years to pay off mortgage\n",
    "number_of_years=int(input('Please enter no of years to pay off: '))\n",
    "\n",
    "#calculate total monthtly payments\n",
    "#M: total monthly payments\n",
    "# monthly Interest rate : i\n",
    "# formula;  M= P(i((1+i)^n)/(1+i)^n-1\n",
    "# n: duration\n",
    "annual_interest_rate=  interest_rate/100\n",
    "i= annual_interest_rate/12\n",
    "n=number_of_years*12\n",
    "numerator=i*((1+i)**n)\n",
    "denominator=(1+i)**n-1\n",
    "M= (P*numerator/denominator)\n",
    "\n",
    "\n",
    "#Calculate totalloan amount\n",
    "Total_loan_amount=M*n\n",
    "\n",
    "#outputs of user entries\n",
    "print(f'For a {number_of_years}-year mortgage loan of $%.2f' %P)\n",
    "print(f'at an \\033[1m annual\\033[0m interest rate of {interest_rate}%' )\n",
    "print('you pay') \n",
    "print(f'\\033[1m${round(M,2)} monthly \\033[0m')      \n",
    "print('--------------------------------')\n",
    "print('\\033[1mTotal amount\\033[0m paid will be $%.2f' %Total_loan_amount)\n",
    "print('--------------------------------')\n",
    "\n",
    "\n",
    "\n",
    "\n",
    "\n",
    "\n"
   ]
  },
  {
   "cell_type": "code",
   "execution_count": null,
   "metadata": {},
   "outputs": [],
   "source": []
  }
 ],
 "metadata": {
  "kernelspec": {
   "display_name": "Python 3",
   "language": "python",
   "name": "python3"
  },
  "language_info": {
   "codemirror_mode": {
    "name": "ipython",
    "version": 3
   },
   "file_extension": ".py",
   "mimetype": "text/x-python",
   "name": "python",
   "nbconvert_exporter": "python",
   "pygments_lexer": "ipython3",
   "version": "3.8.3"
  }
 },
 "nbformat": 4,
 "nbformat_minor": 5
}
